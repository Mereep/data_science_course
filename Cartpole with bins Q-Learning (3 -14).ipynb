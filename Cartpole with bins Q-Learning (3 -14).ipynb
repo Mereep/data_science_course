{
 "cells": [
  {
   "cell_type": "code",
   "execution_count": 319,
   "metadata": {
    "collapsed": true
   },
   "outputs": [],
   "source": [
    "import numpy as np\n",
    "import gym\n",
    "import matplotlib.pyplot as plt\n",
    "from math import sqrt\n",
    "%matplotlib inline"
   ]
  },
  {
   "cell_type": "code",
   "execution_count": 437,
   "metadata": {
    "collapsed": false
   },
   "outputs": [],
   "source": [
    "# Q-Table size in each dimension\n",
    "# Strangly for numbers >= 100 we do never reach more than 100 steps on average\n",
    "number_of_bins_per_dimension = 10\n",
    "\n",
    "# Max and min intervals \n",
    "# From docs and plotting (guessed edges)\n",
    "dimension_1_low = -2.4\n",
    "dimension_1_high = 2.4\n",
    "\n",
    "dimension_2_low = -2\n",
    "dimension_2_high = 2\n",
    "\n",
    "dimension_3_low = -1\n",
    "dimension_3_high = 1\n",
    "\n",
    "dimension_4_low = -3.5\n",
    "dimension_4_high = 3.5\n",
    "\n",
    "# Push all of that into one array\n",
    "borders = np.array([\n",
    "        [dimension_1_low, dimension_1_high],\n",
    "        [dimension_2_low, dimension_2_high],\n",
    "        [dimension_3_low, dimension_3_high],\n",
    "        [dimension_4_low, dimension_4_high]\n",
    "       ], dtype=np.float64)"
   ]
  },
  {
   "cell_type": "code",
   "execution_count": 438,
   "metadata": {
    "collapsed": false
   },
   "outputs": [],
   "source": [
    "def map_observation_to_bins(observation, borders, max_bins):\n",
    "    \"\"\"\n",
    "    Will map each observation into it's bins\n",
    "    having bin 0 < min and bin max_bins - 1 for > max\n",
    "    \"\"\"\n",
    "    bins = []\n",
    "    for i, single_observation in enumerate(observation):\n",
    "        low, high = borders[i]\n",
    "        if single_observation > high:\n",
    "            bins.append(max_bins - 1)\n",
    "        elif single_observation < low:\n",
    "            bins.append(0)\n",
    "        else:\n",
    "            #@Todo precalc that into the borders array to speed up\n",
    "            spread = np.float64(high - low)\n",
    "            bin_width = np.float64(spread / (max_bins - 3))\n",
    "            \n",
    "            # maybe store that into some lookup table? \n",
    "            bins.append(int((single_observation + abs(low)) / bin_width + 1))\n",
    "    return bins\n",
    "        "
   ]
  },
  {
   "cell_type": "code",
   "execution_count": 439,
   "metadata": {
    "collapsed": false
   },
   "outputs": [
    {
     "data": {
      "text/plain": [
       "[4, 0, 0, 9]"
      ]
     },
     "execution_count": 439,
     "metadata": {},
     "output_type": "execute_result"
    }
   ],
   "source": [
    "# Test\n",
    "map_observation_to_bins([0,-100,-9.9, 11], borders, number_of_bins_per_dimension)"
   ]
  },
  {
   "cell_type": "code",
   "execution_count": 440,
   "metadata": {
    "collapsed": false
   },
   "outputs": [],
   "source": [
    "def build_Q_table(action_count, states, bins_per_state):\n",
    "    \"\"\"\n",
    "    Will create a bins^state*action_acount Matrix\n",
    "    \"\"\"\n",
    "    shape = []\n",
    "    for i in range(states):\n",
    "        shape.append(bins_per_state)\n",
    "    shape.append(action_count)\n",
    "    return np.zeros(shape=shape, dtype=np.float64)"
   ]
  },
  {
   "cell_type": "code",
   "execution_count": 441,
   "metadata": {
    "collapsed": false
   },
   "outputs": [],
   "source": [
    "Q_table = build_Q_table(action_count=2, states=len(borders), bins_per_state=number_of_bins_per_dimension)"
   ]
  },
  {
   "cell_type": "code",
   "execution_count": 442,
   "metadata": {
    "collapsed": false
   },
   "outputs": [
    {
     "data": {
      "text/plain": [
       "(10L, 10L, 10L, 10L, 2L)"
      ]
     },
     "execution_count": 442,
     "metadata": {},
     "output_type": "execute_result"
    }
   ],
   "source": [
    "Q_table.shape"
   ]
  },
  {
   "cell_type": "code",
   "execution_count": 443,
   "metadata": {
    "collapsed": false
   },
   "outputs": [
    {
     "data": {
      "text/plain": [
       "0"
      ]
     },
     "execution_count": 443,
     "metadata": {},
     "output_type": "execute_result"
    }
   ],
   "source": [
    "Q_table.nbytes / 1024 / 1024"
   ]
  },
  {
   "cell_type": "code",
   "execution_count": 444,
   "metadata": {
    "collapsed": false
   },
   "outputs": [],
   "source": [
    "def get_action_values_for_bin(bins, n_actions, q_matrix):\n",
    "    \"\"\"\n",
    "    Returns all action-values given a matrix position\n",
    "    \"\"\"\n",
    "    values = []\n",
    "    idx_base = map(lambda x: [x], bins)\n",
    "    for i in range(n_actions):\n",
    "            idx = idx_base + [i]\n",
    "            values.append(q_matrix[idx][0])\n",
    "    return values, idx_base\n",
    "                \n",
    "def do_q_learning(env, q_matrix, observation_to_bin_mapper, alpha=0.8, gamma=0.8, episodes=199, epsilon=0.05, **mapper_args):\n",
    "    \"\"\"\n",
    "    Plays an episode until done or \"episodes\" steps are made\n",
    "    alpha and gamma are learning rates (big alpha = focus more on reward, big gamma = take next step more into account)\n",
    "    observation bin mapper is a function which transforms an observation from env into an index for q_matrix in form of \n",
    "    [[dim_1],[dim_2],...,[dim_max_obersvation]]\n",
    "    mapper_args will be passed to the observation mapper as-is\n",
    "    \"\"\"\n",
    "    observation = env.reset()\n",
    "    bins = observation_to_bin_mapper(observation=observation, **mapper_args)\n",
    "    done = False\n",
    "    steps_survived = 0\n",
    "    \n",
    "    while not done:\n",
    "        # look into all possible moves\n",
    "        vals, idx = get_action_values_for_bin(bins=bins,\n",
    "                                         n_actions=env.action_space.n, \n",
    "                                         q_matrix=q_matrix)\n",
    "        \n",
    "        # greedy pick move with highest value (or random)\n",
    "        if np.random.random() < epsilon:\n",
    "            move = env.action_space.sample()\n",
    "        else:\n",
    "            move = np.argmax(vals)\n",
    "            #max_val = np.max(vals)\n",
    "            #possible_moves_mask = vals == max_val # if two moves have same reward, we choose randomly\n",
    "            #possible_moves = np.argwhere(possible_moves_mask == True).flatten()\n",
    "            #move = np.random.choice(possible_moves)\n",
    "        # print vals, move\n",
    "        # move = np.random.choice([0,1])\n",
    "        \n",
    "        idx += [move]\n",
    "    \n",
    "        # Move one step\n",
    "        observation, reward, done, _ = env.step(move)\n",
    "\n",
    "        # Calculate new position\n",
    "        bins = observation_to_bin_mapper(observation=observation, **mapper_args)\n",
    "\n",
    "        # Get best action values for next step\n",
    "        vals, _ = get_action_values_for_bin(bins=bins, \n",
    "                                                  n_actions=env.action_space.n, \n",
    "                                                  q_matrix=q_matrix)\n",
    "        if done == True:\n",
    "            if steps_survived < episodes:\n",
    "                reward = -300\n",
    "        else:\n",
    "            reward = 1\n",
    "            \n",
    "        steps_survived += 1\n",
    "        \n",
    "        # Update q-matrix\n",
    "        q_matrix[idx] = (1 - alpha) * q_matrix[idx] + alpha * (reward + gamma * (np.max(vals)))\n",
    "            \n",
    "    return q_matrix, steps_survived"
   ]
  },
  {
   "cell_type": "code",
   "execution_count": 445,
   "metadata": {
    "collapsed": false
   },
   "outputs": [],
   "source": [
    "env = gym.make(\"CartPole-v0\")"
   ]
  },
  {
   "cell_type": "code",
   "execution_count": 447,
   "metadata": {
    "collapsed": false
   },
   "outputs": [
    {
     "name": "stdout",
     "output_type": "stream",
     "text": [
      "Round until 100 survived average 22 steps (Max: 79)\n",
      "Round until 200 survived average 41 steps (Max: 114)\n",
      "Round until 300 survived average 45 steps (Max: 131)\n",
      "Round until 400 survived average 61 steps (Max: 200)\n",
      "Round until 500 survived average 65 steps (Max: 200)\n",
      "Round until 600 survived average 74 steps (Max: 200)\n",
      "Round until 700 survived average 64 steps (Max: 200)\n",
      "Round until 800 survived average 52 steps (Max: 200)\n",
      "Round until 900 survived average 44 steps (Max: 110)\n",
      "Round until 1000 survived average 68 steps (Max: 143)\n",
      "Round until 1100 survived average 65 steps (Max: 173)\n",
      "Round until 1200 survived average 71 steps (Max: 173)\n",
      "Round until 1300 survived average 61 steps (Max: 200)\n",
      "Round until 1400 survived average 76 steps (Max: 200)\n",
      "Round until 1500 survived average 66 steps (Max: 170)\n",
      "Round until 1600 survived average 85 steps (Max: 200)\n",
      "Round until 1700 survived average 64 steps (Max: 200)\n",
      "Round until 1800 survived average 87 steps (Max: 200)\n",
      "Round until 1900 survived average 51 steps (Max: 200)\n",
      "Round until 2000 survived average 76 steps (Max: 200)\n",
      "Round until 2100 survived average 67 steps (Max: 200)\n",
      "Round until 2200 survived average 89 steps (Max: 200)\n",
      "Round until 2300 survived average 80 steps (Max: 200)\n",
      "Round until 2400 survived average 95 steps (Max: 200)\n",
      "Round until 2500 survived average 87 steps (Max: 200)\n",
      "Round until 2600 survived average 71 steps (Max: 194)\n",
      "Round until 2700 survived average 82 steps (Max: 200)\n",
      "Round until 2800 survived average 79 steps (Max: 200)\n",
      "Round until 2900 survived average 107 steps (Max: 200)\n",
      "Round until 3000 survived average 96 steps (Max: 200)\n",
      "Round until 3100 survived average 63 steps (Max: 200)\n",
      "Round until 3200 survived average 59 steps (Max: 200)\n",
      "Round until 3300 survived average 57 steps (Max: 148)\n",
      "Round until 3400 survived average 64 steps (Max: 174)\n",
      "Round until 3500 survived average 86 steps (Max: 194)\n",
      "Round until 3600 survived average 83 steps (Max: 168)\n",
      "Round until 3700 survived average 34 steps (Max: 180)\n",
      "Round until 3800 survived average 76 steps (Max: 127)\n",
      "Round until 3900 survived average 84 steps (Max: 186)\n",
      "Round until 4000 survived average 90 steps (Max: 200)\n",
      "Round until 4100 survived average 96 steps (Max: 200)\n",
      "Round until 4200 survived average 100 steps (Max: 200)\n",
      "Round until 4300 survived average 78 steps (Max: 200)\n",
      "Round until 4400 survived average 84 steps (Max: 200)\n",
      "Round until 4500 survived average 75 steps (Max: 183)\n",
      "Round until 4600 survived average 101 steps (Max: 200)\n",
      "Round until 4700 survived average 101 steps (Max: 200)\n",
      "Round until 4800 survived average 102 steps (Max: 200)\n",
      "Round until 4900 survived average 102 steps (Max: 200)\n",
      "Round until 5000 survived average 94 steps (Max: 200)\n",
      "Round until 5100 survived average 93 steps (Max: 182)\n",
      "Round until 5200 survived average 81 steps (Max: 200)\n",
      "Round until 5300 survived average 62 steps (Max: 200)\n",
      "Round until 5400 survived average 107 steps (Max: 200)\n",
      "Round until 5500 survived average 78 steps (Max: 200)\n",
      "Round until 5600 survived average 96 steps (Max: 178)\n",
      "Round until 5700 survived average 90 steps (Max: 200)\n",
      "Round until 5800 survived average 95 steps (Max: 200)\n",
      "Round until 5900 survived average 70 steps (Max: 200)\n",
      "Round until 6000 survived average 80 steps (Max: 200)\n",
      "Round until 6100 survived average 102 steps (Max: 200)\n",
      "Round until 6200 survived average 91 steps (Max: 200)\n",
      "Round until 6300 survived average 73 steps (Max: 200)\n",
      "Round until 6400 survived average 89 steps (Max: 200)\n",
      "Round until 6500 survived average 75 steps (Max: 194)\n",
      "Round until 6600 survived average 61 steps (Max: 200)\n",
      "Round until 6700 survived average 69 steps (Max: 172)\n",
      "Round until 6800 survived average 84 steps (Max: 200)\n",
      "Round until 6900 survived average 75 steps (Max: 194)\n",
      "Round until 7000 survived average 57 steps (Max: 197)\n",
      "Round until 7100 survived average 57 steps (Max: 184)\n",
      "Round until 7200 survived average 77 steps (Max: 200)\n",
      "Round until 7300 survived average 72 steps (Max: 200)\n",
      "Round until 7400 survived average 110 steps (Max: 200)\n",
      "Round until 7500 survived average 102 steps (Max: 200)\n",
      "Round until 7600 survived average 89 steps (Max: 196)\n",
      "Round until 7700 survived average 105 steps (Max: 200)\n",
      "Round until 7800 survived average 99 steps (Max: 200)\n",
      "Round until 7900 survived average 86 steps (Max: 200)\n",
      "Round until 8000 survived average 104 steps (Max: 200)\n",
      "Round until 8100 survived average 84 steps (Max: 200)\n",
      "Round until 8200 survived average 72 steps (Max: 200)\n",
      "Round until 8300 survived average 82 steps (Max: 200)\n",
      "Round until 8400 survived average 97 steps (Max: 200)\n",
      "Round until 8500 survived average 92 steps (Max: 200)\n",
      "Round until 8600 survived average 116 steps (Max: 200)\n",
      "Round until 8700 survived average 117 steps (Max: 200)\n",
      "Round until 8800 survived average 99 steps (Max: 200)\n",
      "Round until 8900 survived average 91 steps (Max: 200)\n",
      "Round until 9000 survived average 95 steps (Max: 200)\n",
      "Round until 9100 survived average 88 steps (Max: 200)\n",
      "Round until 9200 survived average 71 steps (Max: 185)\n",
      "Round until 9300 survived average 89 steps (Max: 200)\n",
      "Round until 9400 survived average 118 steps (Max: 200)\n",
      "Round until 9500 survived average 75 steps (Max: 200)\n",
      "Round until 9600 survived average 82 steps (Max: 200)\n",
      "Round until 9700 survived average 109 steps (Max: 200)\n",
      "Round until 9800 survived average 83 steps (Max: 200)\n",
      "Round until 9900 survived average 83 steps (Max: 200)\n",
      "Playing last round without randomness\n",
      "Steps: 112\n"
     ]
    },
    {
     "data": {
      "text/plain": [
       "[<matplotlib.lines.Line2D at 0xf4002b0>]"
      ]
     },
     "execution_count": 447,
     "metadata": {},
     "output_type": "execute_result"
    },
    {
     "data": {
      "image/png": "[encoded data removed]",
      "text/plain": [
       "<matplotlib.figure.Figure at 0xe3eb588>"
      ]
     },
     "metadata": {},
     "output_type": "display_data"
    }
   ],
   "source": [
    "play_mat = np.copy(Q_table)\n",
    "step_sum = 0\n",
    "steps = 1\n",
    "max_round = 0\n",
    "average_hist = []\n",
    "\n",
    "for i in range(10000):\n",
    "    play_mat, steps = do_q_learning(env=env, \n",
    "              q_matrix=play_mat, \n",
    "              observation_to_bin_mapper=map_observation_to_bins, \n",
    "              borders=borders, \n",
    "              max_bins=number_of_bins_per_dimension, \n",
    "              epsilon=1.0/sqrt(i+1) # the worse the result, the more we take random steps (Seems legit ...)\n",
    "           )\n",
    "    # also we want to see the best run for that round\n",
    "    if steps > max_round:\n",
    "        max_round = steps\n",
    "    step_sum += steps\n",
    "    \n",
    "    if i > 0 and i % 100 == 0:\n",
    "        print \"Round until {} survived average {} steps (Max: {})\".format(i, step_sum / 100, max_round)\n",
    "        average_hist.append(step_sum / 100)\n",
    "        step_sum = 0\n",
    "        max_round = 0\n",
    "        \n",
    "print \"Playing last round without randomness\"\n",
    "_, steps = do_q_learning(env=env, \n",
    "      q_matrix=play_mat, \n",
    "      observation_to_bin_mapper=map_observation_to_bins, \n",
    "      borders=borders, \n",
    "      max_bins=number_of_bins_per_dimension, \n",
    "      epsilon=-1 # the worse the result, the more we take random steps (Seems legit ...)\n",
    "   )\n",
    "print \"Steps: {}\".format(steps)\n",
    "\n",
    "plt.plot(average_hist)"
   ]
  },
  {
   "cell_type": "code",
   "execution_count": null,
   "metadata": {
    "collapsed": true
   },
   "outputs": [],
   "source": []
  }
 ],
 "metadata": {
  "kernelspec": {
   "display_name": "Python (datasciencecourse)",
   "language": "python",
   "name": "coputersciencecourse"
  },
  "language_info": {
   "codemirror_mode": {
    "name": "ipython",
    "version": 2
   },
   "file_extension": ".py",
   "mimetype": "text/x-python",
   "name": "python",
   "nbconvert_exporter": "python",
   "pygments_lexer": "ipython2",
   "version": "2.7.13"
  }
 },
 "nbformat": 4,
 "nbformat_minor": 2
}
