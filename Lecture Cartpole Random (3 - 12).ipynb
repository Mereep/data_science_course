{
 "cells": [
  {
   "cell_type": "code",
   "execution_count": 3,
   "metadata": {
    "collapsed": true
   },
   "outputs": [],
   "source": [
    "import gym\n",
    "import numpy as np\n",
    "import matplotlib.pyplot as plt\n",
    "%matplotlib inline"
   ]
  },
  {
   "cell_type": "code",
   "execution_count": 4,
   "metadata": {
    "collapsed": false
   },
   "outputs": [
    {
     "data": {
      "text/plain": [
       "gym.wrappers.time_limit.TimeLimit"
      ]
     },
     "execution_count": 4,
     "metadata": {},
     "output_type": "execute_result"
    }
   ],
   "source": [
    "env = gym.make(\"CartPole-v0\")\n",
    "type(env)"
   ]
  },
  {
   "cell_type": "code",
   "execution_count": 3,
   "metadata": {
    "collapsed": false
   },
   "outputs": [
    {
     "data": {
      "text/plain": [
       "array([ 0.03224073, -0.00274987,  0.00170824, -0.0203779 ])"
      ]
     },
     "execution_count": 3,
     "metadata": {},
     "output_type": "execute_result"
    }
   ],
   "source": [
    "env.reset()"
   ]
  },
  {
   "cell_type": "code",
   "execution_count": 5,
   "metadata": {
    "collapsed": true
   },
   "outputs": [],
   "source": [
    "env.observation_space"
   ]
  },
  {
   "cell_type": "code",
   "execution_count": 6,
   "metadata": {
    "collapsed": false
   },
   "outputs": [
    {
     "data": {
      "text/plain": [
       "array([  4.80000000e+00,   3.40282347e+38,   4.18879020e-01,\n",
       "         3.40282347e+38])"
      ]
     },
     "execution_count": 6,
     "metadata": {},
     "output_type": "execute_result"
    }
   ],
   "source": [
    "box.high"
   ]
  },
  {
   "cell_type": "code",
   "execution_count": 48,
   "metadata": {
    "collapsed": false
   },
   "outputs": [
    {
     "data": {
      "text/plain": [
       "Discrete(2)"
      ]
     },
     "execution_count": 48,
     "metadata": {},
     "output_type": "execute_result"
    }
   ],
   "source": [
    "a_space = env.action_space\n",
    "a_space"
   ]
  },
  {
   "cell_type": "code",
   "execution_count": null,
   "metadata": {
    "collapsed": true
   },
   "outputs": [],
   "source": []
  },
  {
   "cell_type": "code",
   "execution_count": 36,
   "metadata": {
    "collapsed": true
   },
   "outputs": [],
   "source": [
    "def do_episodes(env, episode_cnt=10, parameters=None, plot=False):\n",
    "    done = False\n",
    "    episode_cnt = 10\n",
    "    step_sum = 0\n",
    "    param_length = env.observation_space.shape[0]\n",
    "    observation_param = []\n",
    "\n",
    "    if parameters is None:\n",
    "        parameters = np.array([np.random.normal() for x in range(param_length)])\n",
    "        \n",
    "    for e in range(episode_cnt):\n",
    "        steps = 0\n",
    "        observation = env.reset()\n",
    "        while not done:\n",
    "            if np.dot(observation, parameters) > 0:\n",
    "                action = 0\n",
    "            else:\n",
    "                action = 1\n",
    "            observation, reward, done, _ = env.step(action)\n",
    "            steps+=1\n",
    "            observation_param.append(observation[3])\n",
    "\n",
    "        # print \"{} steps needed in episode {}\".format(steps, e)\n",
    "        done = False\n",
    "        step_sum += steps\n",
    "    print \"Done average {} steps\".format(step_sum / episode_cnt)\n",
    "    if plot is not False:\n",
    "        plt.plot(observation_param)\n",
    "    return step_sum / episode_cnt, parameters"
   ]
  },
  {
   "cell_type": "code",
   "execution_count": 44,
   "metadata": {
    "collapsed": false
   },
   "outputs": [
    {
     "name": "stdout",
     "output_type": "stream",
     "text": [
      "Done average 60 steps\n",
      "Done average 9 steps\n",
      "Done average 10 steps\n",
      "Best step cnt after 3 tries: 60, parameters: [-0.25532933  1.94122184  0.25978415 -1.19881414]\n",
      "Playing with best params\n",
      "Done average 56 steps\n"
     ]
    },
    {
     "data": {
      "image/png": "[encoded data removed]",
      "text/plain": [
       "<matplotlib.figure.Figure at 0x880c320>"
      ]
     },
     "metadata": {},
     "output_type": "display_data"
    }
   ],
   "source": [
    "env = gym.make(\"CartPole-v0\")\n",
    "num_tries = 3\n",
    "best_steps = float(\"-inf\")\n",
    "best_params = []\n",
    "for i in range(num_tries):\n",
    "    steps, params = do_episodes(env)\n",
    "    if steps > best_steps:\n",
    "        best_steps = steps\n",
    "        best_params = params\n",
    "print \"Best step cnt after {} tries: {}, parameters: {}\".format(num_tries, best_steps, best_params)\n",
    "print \"Playing with best params\"\n",
    "# env = gym.wrappers.Monitor(env=env, directory=\"video\")\n",
    "steps, _ = do_episodes(env, parameters=best_params, episode_cnt=1, plot=True)"
   ]
  },
  {
   "cell_type": "code",
   "execution_count": null,
   "metadata": {
    "collapsed": true
   },
   "outputs": [],
   "source": []
  },
  {
   "cell_type": "code",
   "execution_count": null,
   "metadata": {
    "collapsed": true
   },
   "outputs": [],
   "source": []
  }
 ],
 "metadata": {
  "kernelspec": {
   "display_name": "Python (datasciencecourse)",
   "language": "python",
   "name": "coputersciencecourse"
  },
  "language_info": {
   "codemirror_mode": {
    "name": "ipython",
    "version": 2
   },
   "file_extension": ".py",
   "mimetype": "text/x-python",
   "name": "python",
   "nbconvert_exporter": "python",
   "pygments_lexer": "ipython2",
   "version": "2.7.13"
  }
 },
 "nbformat": 4,
 "nbformat_minor": 2
}
